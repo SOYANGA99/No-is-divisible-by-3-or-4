{
 "cells": [
  {
   "cell_type": "code",
   "execution_count": 3,
   "id": "05425dd9",
   "metadata": {},
   "outputs": [
    {
     "name": "stdout",
     "output_type": "stream",
     "text": [
      "Enter a no:-35\n",
      "No Is Not Divisible\n"
     ]
    }
   ],
   "source": [
    "x= int(input(\"Enter a no:-\"))\n",
    "if (x%3==0) or (x%4==0):\n",
    "    print(\"No Is Divisible\")\n",
    "else:\n",
    "    print(\"No Is Not Divisible\")"
   ]
  },
  {
   "cell_type": "code",
   "execution_count": null,
   "id": "781ce81b",
   "metadata": {},
   "outputs": [],
   "source": []
  }
 ],
 "metadata": {
  "kernelspec": {
   "display_name": "Python 3 (ipykernel)",
   "language": "python",
   "name": "python3"
  },
  "language_info": {
   "codemirror_mode": {
    "name": "ipython",
    "version": 3
   },
   "file_extension": ".py",
   "mimetype": "text/x-python",
   "name": "python",
   "nbconvert_exporter": "python",
   "pygments_lexer": "ipython3",
   "version": "3.9.7"
  }
 },
 "nbformat": 4,
 "nbformat_minor": 5
}
